{
 "cells": [
  {
   "cell_type": "code",
   "execution_count": 17,
   "metadata": {
    "collapsed": false
   },
   "outputs": [
    {
     "name": "stdout",
     "output_type": "stream",
     "text": [
      "https://raw.githubusercontent.com/p-v-o-s/turbidity-research/master/assets/bandpass.gif\n",
      "https://raw.githubusercontent.com/p-v-o-s/turbidity-research/master/assets/fig9.png\n"
     ]
    }
   ],
   "source": [
    "from urllib.parse import urljoin\n",
    "from bs4 import BeautifulSoup\n",
    "\n",
    "\n",
    "filename = 'mod_sync.md'\n",
    "\n",
    "with open(filename, 'r') as myfile:\n",
    "    data=myfile.read()\n",
    "    \n",
    "    \n",
    "base_url = 'https://raw.githubusercontent.com/p-v-o-s/turbidity-research/master/'\n",
    "soup = BeautifulSoup(data,'lxml')\n",
    "\n",
    "for img in soup.find_all('img', src=True):\n",
    "    src = img.get('src')\n",
    "    if not src.startswith('http'):\n",
    "        src = urljoin(base_url, src)\n",
    "\n",
    "    print(src)"
   ]
  },
  {
   "cell_type": "code",
   "execution_count": null,
   "metadata": {
    "collapsed": true
   },
   "outputs": [],
   "source": []
  }
 ],
 "metadata": {
  "kernelspec": {
   "display_name": "Python 3",
   "language": "python",
   "name": "python3"
  },
  "language_info": {
   "codemirror_mode": {
    "name": "ipython",
    "version": 3
   },
   "file_extension": ".py",
   "mimetype": "text/x-python",
   "name": "python",
   "nbconvert_exporter": "python",
   "pygments_lexer": "ipython3",
   "version": "3.5.1"
  }
 },
 "nbformat": 4,
 "nbformat_minor": 0
}
