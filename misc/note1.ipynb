{
 "cells": [
  {
   "cell_type": "markdown",
   "metadata": {},
   "source": [
    "<img src=\"./assets/turibidityClose.png\">\n",
    "\n",
    "## Long-term Outdoor Camera Deployments\n",
    "\n",
    "A bunch of us have been interested in monitoring high-turbidity events in a river -- i.e., times when there is a lot suspended particulate matter in the water.  One particular interest has been in capturing photo imagery of such events in order to document 'sand frac mining' events in Wisconsin.\n",
    "\n",
    "In general, having an inexpensive, low-power system for recording outdoor imagery in remote locations could have a lot of useful applications. To conserve power, it'd be nice to have a system 'sleep' in between taking photos / making measurements, rather than continually using battery power; ideally, we'd like to have the camera 'wake up' only when we want to take a photo -- during a high-turbidity event, say -- and then go back to sleep until the next signal occurred.\n",
    "\n",
    "### Low-power PowerShots?\n",
    "\n",
    "There are various options for doing this sort of thing -- webcams or inexpensive JPEG cameras connected to e.g. a Raspberry Pi - style small linux computer might one be a reasonable approach.  \n",
    "\n",
    "Over the weekend, though, it occurred to me that folks connected to the Public Lab community already have a lot of expertise around triggering small, handheld digital cameras; in particular PowerShots take great photos, and can be triggered via pulses on a USB cable. \n",
    "\n",
    "But: a PowerShot won't last more than a few hours on battery. How could we make this work?\n",
    "\n",
    "If a PowerShot has an external \n",
    "\n",
    "## TinkerLog\n",
    "\n",
    "## PhilCrump.co.uk\n"
   ]
  },
  {
   "cell_type": "code",
   "execution_count": null,
   "metadata": {
    "collapsed": true
   },
   "outputs": [],
   "source": []
  }
 ],
 "metadata": {
  "kernelspec": {
   "display_name": "Python 3",
   "language": "python",
   "name": "python3"
  },
  "language_info": {
   "codemirror_mode": {
    "name": "ipython",
    "version": 3
   },
   "file_extension": ".py",
   "mimetype": "text/x-python",
   "name": "python",
   "nbconvert_exporter": "python",
   "pygments_lexer": "ipython3",
   "version": "3.5.1"
  }
 },
 "nbformat": 4,
 "nbformat_minor": 0
}
