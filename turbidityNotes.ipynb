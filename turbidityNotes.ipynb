{
 "cells": [
  {
   "cell_type": "markdown",
   "metadata": {},
   "source": [
    "\n",
    "\n",
    "**Idea** \n",
    "\n",
    "A bunch of us have been interested in monitoring high-turbidity events in a river -- times when there are a lot of suspended particles in the water.  Our particular, recent interest has been in capturing evidence of such events in order to document 'sand frac mining' events in Wisconsin.\n",
    "\n",
    "One of the design problems we need to tackle actually has fairly broad \n",
    "In general, th One hope is that by documenting \n",
    "\n",
    "## TinkerLog\n",
    "\n",
    "## PhilCrump.co.uk\n"
   ]
  }
 ],
 "metadata": {
  "kernelspec": {
   "display_name": "Python 3",
   "language": "python",
   "name": "python3"
  },
  "language_info": {
   "codemirror_mode": {
    "name": "ipython",
    "version": 3
   },
   "file_extension": ".py",
   "mimetype": "text/x-python",
   "name": "python",
   "nbconvert_exporter": "python",
   "pygments_lexer": "ipython3",
   "version": "3.5.1"
  }
 },
 "nbformat": 4,
 "nbformat_minor": 0
}
