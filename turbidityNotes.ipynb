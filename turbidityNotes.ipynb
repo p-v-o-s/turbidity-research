{
 "cells": [
  {
   "cell_type": "markdown",
   "metadata": {},
   "source": [
    "\n",
    "\n",
    "**Idea** \n",
    "\n",
    "A bunch of us have been interested in monitoring high-turbidity events in a river -- times when there are a lot of suspended particles in the water.  Our particular, recent interest has been in capturing evidence of such events in order to document 'sand frac mining' events in Wisconsin.\n",
    "\n",
    "One of the design problems we need to tackle actually has fairly broad \n",
    "In general, th One hope is that by documenting \n",
    "\n",
    "## TinkerLog\n",
    "\n",
    "## PhilCrump.co.uk\n"
   ]
  },
  {
   "cell_type": "markdown",
   "metadata": {},
   "source": [
    "Good reference for turbidity photodiodes:\n",
    "\n",
    "http://avnetexpress.avnet.com/wcsstore/emstore/images/whatsnew/Measuring-Water.pdf?intcmp=aeSearch_na_lighting_Measuring-Water_Jul14\n",
    "\n",
    "emitters:\n",
    "\n",
    "sfh4550, 4650, 4655, 4715S\n",
    "\n",
    "detectors:\n",
    "\n",
    "BPY62\n",
    "http://www.mouser.com/ProductDetail/OSRAM-Opto-Semiconductors/BPY-62-4/?qs=nTDll3UaDK5htMgoScxDRA%3D%3D\n",
    "\n",
    "\n",
    "to avoid dependency on temperature, can use constant current source to LED:\n",
    "http://www.sensorsportal.com/HTML/DIGEST/march_2014/Special_issue/P_SI_547.pdf\n",
    "\n",
    "https://www.google.com/search?q=op-amp+constant+current+source+LED&oq=op-amp+constant+current+source+LED+&aqs=chrome..69i57j0.10774j0j7&sourceid=chrome&es_sm=93&ie=UTF-8\n",
    "\n",
    "https://www.youtube.com/watch?v=xyX3Apfjb3A <-- constant current LED\n",
    "\n",
    "constant current chip: http://www.mouser.com/new/microchip/supertexCL25/\n",
    "\n",
    "http://ww1.microchip.com/downloads/en/DeviceDoc/cl25.pdf\n",
    "\n",
    "http://www.ledsmagazine.com/articles/print/volume-4/issue-8/features/driving-led-lamps-some-simple-design-guidelines.html\n",
    "\n",
    "http://www.lrc.rpi.edu/programs/nlpip/lightinganswers/led/heat.asp\n",
    "\n",
    "http://www.google.com/patents/US5589935\n",
    "\n",
    "really nice in-depth review: file:///home/dwblair/Downloads/sensors-09-08311%20(4).pdf\n",
    "\n",
    "http://www.google.ch/patents/US4357105\n",
    "\n",
    "commercial instrument compensating LED for temperature by -- meausring temperature: http://www.exowater.com/blog/2012/05/how-is-the-exo-turbidity-sensor-design-different/\n",
    "\n",
    "temperature effects: http://pubs.rsc.org/en/content/articlepdf/2015/em/c5em00030k?page=search\n",
    "\n",
    "patent for compensating for temperature: https://www.google.com.tr/patents/US5477576\n",
    "\n",
    "seems like: best is to be able to simply measure the output, and do ratio \n",
    "\n",
    "great doc re: turbidity methods:\n",
    "\n",
    "http://www.hach.com/asset-get.download-en.jsa?code=61798\n",
    "\n",
    "usgs materials on calibration: http://water.usgs.gov/owq/FieldManual/Chapter6/Section6.7_v2.1.pdf\n",
    "\n",
    "really nice overview of turbidity impacts, methods: http://www.deq.state.or.us/wq/standards/docs/Turbidity/10-WQ-022.pdf\n"
   ]
  },
  {
   "cell_type": "markdown",
   "metadata": {},
   "source": [
    "# Prototyping\n",
    "\n",
    "JFet op amp -- useful for current measurement and for voltage differential amplifier construction.\n",
    "\n",
    "prototyping with the ad820anz from digikey:\n",
    "\n"
   ]
  }
 ],
 "metadata": {
  "kernelspec": {
   "display_name": "Python 3",
   "language": "python",
   "name": "python3"
  },
  "language_info": {
   "codemirror_mode": {
    "name": "ipython",
    "version": 3
   },
   "file_extension": ".py",
   "mimetype": "text/x-python",
   "name": "python",
   "nbconvert_exporter": "python",
   "pygments_lexer": "ipython3",
   "version": "3.5.1"
  }
 },
 "nbformat": 4,
 "nbformat_minor": 0
}
